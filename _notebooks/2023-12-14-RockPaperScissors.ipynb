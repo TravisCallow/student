{
 "cells": [
  {
   "cell_type": "code",
   "execution_count": 7,
   "metadata": {},
   "outputs": [
    {
     "data": {
      "application/javascript": "\nstartgame()\nfunction startgame(){\n    var answer = console.log(\"Rock(R), Paper(P), or Scissors(S)> \")\n    var simulatedAnswer = \"R\"\n    var items = [\"rock\", \"paper\", \"scissors\"]\n    var aiAnswer = \n\n    check()\n\n\n    function randomItem(){\n        aiAnswer = items[math.random(0,2)]\n    }\n    function check(){\n        if(answer == \"R\" & aiAnswer == \"rock\"){\n            tie()\n        }\n        if(answer == \"R\" & aiAnswer == \"paper\"){\n            loose()\n        }\n        if(answer == \"R\" & aiAnswer == \"scissors\"){\n            win()\n        }\n\n        if(answer == \"P\" & aiAnswer == \"rock\"){\n            win()\n        }\n        if(answer == \"P\" & aiAnswer == \"paper\"){\n            tie()\n        }\n        if(answer == \"P\" & aiAnswer == \"scissors\"){\n            loose()\n        }\n\n        if(answer == \"S\" & aiAnswer == \"rock\"){\n            loose()\n        }\n        if(answer == \"S\" & aiAnswer == \"paper\"){\n            win()\n        }\n        if(answer == \"S\" & aiAnswer == \"scissors\"){\n            tie()\n        }\n    }\n\n    function win(){\n        console.log(\"You Won!\")\n        startgame()\n    }\n    function loose(){\n        console.log(\"You Lost!\")\n        startgame()\n    }\n    function tie(){\n        console.log(\"You tied!\")\n        startgame()\n    }\n}\n",
      "text/plain": [
       "<IPython.core.display.Javascript object>"
      ]
     },
     "metadata": {},
     "output_type": "display_data"
    }
   ],
   "source": [
    "%%js\n",
    "\n",
    "startgame()\n",
    "function startgame(){\n",
    "    var answer = prompt(\"Rock(R), Paper(P), or Scissors(S)> \")\n",
    "    // var simulatedAnswer = \"R\"\n",
    "    var items = [\"rock\", \"paper\", \"scissors\"]\n",
    "    var aiAnswer = \n",
    "\n",
    "    check()\n",
    "\n",
    "\n",
    "    function randomItem(){\n",
    "        aiAnswer = items[math.random(0,2)]\n",
    "    }\n",
    "    function check(){\n",
    "        if(answer == \"R\" & aiAnswer == \"rock\"){\n",
    "            tie()\n",
    "        }\n",
    "        if(answer == \"R\" & aiAnswer == \"paper\"){\n",
    "            loose()\n",
    "        }\n",
    "        if(answer == \"R\" & aiAnswer == \"scissors\"){\n",
    "            win()\n",
    "        }\n",
    "\n",
    "        if(answer == \"P\" & aiAnswer == \"rock\"){\n",
    "            win()\n",
    "        }\n",
    "        if(answer == \"P\" & aiAnswer == \"paper\"){\n",
    "            tie()\n",
    "        }\n",
    "        if(answer == \"P\" & aiAnswer == \"scissors\"){\n",
    "            loose()\n",
    "        }\n",
    "\n",
    "        if(answer == \"S\" & aiAnswer == \"rock\"){\n",
    "            loose()\n",
    "        }\n",
    "        if(answer == \"S\" & aiAnswer == \"paper\"){\n",
    "            win()\n",
    "        }\n",
    "        if(answer == \"S\" & aiAnswer == \"scissors\"){\n",
    "            tie()\n",
    "        }\n",
    "    }\n",
    "\n",
    "    function win(){\n",
    "        console.log(\"You Won!\")\n",
    "        startgame()\n",
    "    }\n",
    "    function loose(){\n",
    "        console.log(\"You Lost!\")\n",
    "        startgame()\n",
    "    }\n",
    "    function tie(){\n",
    "        console.log(\"You tied!\")\n",
    "        startgame()\n",
    "    }\n",
    "}"
   ]
  }
 ],
 "metadata": {
  "kernelspec": {
   "display_name": "Python 3",
   "language": "python",
   "name": "python3"
  },
  "language_info": {
   "codemirror_mode": {
    "name": "ipython",
    "version": 3
   },
   "file_extension": ".py",
   "mimetype": "text/x-python",
   "name": "python",
   "nbconvert_exporter": "python",
   "pygments_lexer": "ipython3",
   "version": "3.10.12"
  }
 },
 "nbformat": 4,
 "nbformat_minor": 2
}
